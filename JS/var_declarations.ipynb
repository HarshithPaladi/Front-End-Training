{
 "cells": [
  {
   "attachments": {},
   "cell_type": "markdown",
   "metadata": {},
   "source": [
    "# Variables"
   ]
  },
  {
   "attachments": {},
   "cell_type": "markdown",
   "metadata": {},
   "source": [
    "## Scopes"
   ]
  },
  {
   "attachments": {},
   "cell_type": "markdown",
   "metadata": {},
   "source": [
    "`Global Scope`\n",
    "- Variables declared outside of any function or block have global scope.  \n",
    "- They can be accessed from anywhere in the code, including inside functions and blocks\n",
    "- Global variables are accessible by all scripts running on a web page."
   ]
  },
  {
   "cell_type": "code",
   "execution_count": 59,
   "metadata": {
    "dotnet_interactive": {
     "language": "javascript"
    },
    "polyglot_notebook": {
     "kernelName": "javascript"
    },
    "vscode": {
     "languageId": "polyglot-notebook"
    }
   },
   "outputs": [
    {
     "data": {
      "text/plain": [
       "I'm a global variable"
      ]
     },
     "metadata": {},
     "output_type": "display_data"
    }
   ],
   "source": [
    "var globalVariable = \"I'm a global variable\";\n",
    "\n",
    "function myFunction() {\n",
    "  console.log(globalVariable);\n",
    "}\n",
    "\n",
    "myFunction();\n"
   ]
  },
  {
   "attachments": {},
   "cell_type": "markdown",
   "metadata": {},
   "source": [
    "`Function Scope`\n",
    "- Variables declared inside a function have function scope.\n",
    "- They are only accessible within the function in which they are defined. \n",
    "- Function scope provides encapsulation and prevents variable conflicts between different functions."
   ]
  },
  {
   "cell_type": "code",
   "execution_count": 60,
   "metadata": {
    "dotnet_interactive": {
     "language": "javascript"
    },
    "polyglot_notebook": {
     "kernelName": "javascript"
    },
    "vscode": {
     "languageId": "polyglot-notebook"
    }
   },
   "outputs": [
    {
     "data": {
      "text/plain": [
       "I'm a function variable"
      ]
     },
     "metadata": {},
     "output_type": "display_data"
    },
    {
     "ename": "Error",
     "evalue": "functionVariable is not defined",
     "output_type": "error",
     "traceback": [
      "functionVariable is not defined"
     ]
    }
   ],
   "source": [
    "function myFunction() {\n",
    "  var functionVariable = \"I'm a function variable\";\n",
    "  console.log(functionVariable);\n",
    "}\n",
    "\n",
    "myFunction(); // Output: I'm a function variable\n",
    "console.log(functionVariable); // Throws an error: functionVariable is not defined\n"
   ]
  },
  {
   "attachments": {},
   "cell_type": "markdown",
   "metadata": {},
   "source": [
    "`Block Scope` (Introduced in ES6): Variables declared with let and const keywords have block scope.\n",
    "- Block scope is confined to the nearest enclosing curly braces ({}), such as inside loops or conditional statements. \n",
    "- Block scope allows better control over variable visibility and prevents `unintended variable hoisting` and leakage."
   ]
  },
  {
   "cell_type": "code",
   "execution_count": 61,
   "metadata": {
    "dotnet_interactive": {
     "language": "javascript"
    },
    "polyglot_notebook": {
     "kernelName": "javascript"
    },
    "vscode": {
     "languageId": "polyglot-notebook"
    }
   },
   "outputs": [
    {
     "data": {
      "text/plain": [
       "I'm a function variable"
      ]
     },
     "metadata": {},
     "output_type": "display_data"
    },
    {
     "data": {
      "text/plain": [
       "I'm a block variable"
      ]
     },
     "metadata": {},
     "output_type": "display_data"
    },
    {
     "data": {
      "text/plain": [
       "I'm a function variable"
      ]
     },
     "metadata": {},
     "output_type": "display_data"
    },
    {
     "ename": "Error",
     "evalue": "blockVariable is not defined",
     "output_type": "error",
     "traceback": [
      "blockVariable is not defined"
     ]
    }
   ],
   "source": [
    "function myFunction() {\n",
    "  if (true) {\n",
    "    var functionVariable = \"I'm a function variable\";\n",
    "    let blockVariable = \"I'm a block variable\";\n",
    "    console.log(functionVariable);\n",
    "    console.log(blockVariable);\n",
    "  }\n",
    "  console.log(functionVariable); // Output: I'm a function variable\n",
    "  console.log(blockVariable); // Throws an error: blockVariable is not defined\n",
    "}\n",
    "\n",
    "myFunction();\n"
   ]
  },
  {
   "attachments": {},
   "cell_type": "markdown",
   "metadata": {},
   "source": [
    "`Unintended variable hoisting` "
   ]
  },
  {
   "cell_type": "code",
   "execution_count": 62,
   "metadata": {
    "dotnet_interactive": {
     "language": "javascript"
    },
    "polyglot_notebook": {
     "kernelName": "javascript"
    },
    "vscode": {
     "languageId": "polyglot-notebook"
    }
   },
   "outputs": [
    {
     "data": {
      "text/plain": [
       "null"
      ]
     },
     "metadata": {},
     "output_type": "display_data"
    },
    {
     "data": {
      "text/plain": [
       "10"
      ]
     },
     "metadata": {},
     "output_type": "display_data"
    },
    {
     "data": {
      "text/plain": [
       "--------------------------------------"
      ]
     },
     "metadata": {},
     "output_type": "display_data"
    },
    {
     "data": {
      "text/plain": [
       "10"
      ]
     },
     "metadata": {},
     "output_type": "display_data"
    },
    {
     "data": {
      "text/plain": [
       "10"
      ]
     },
     "metadata": {},
     "output_type": "display_data"
    }
   ],
   "source": [
    "function myFunction() {\n",
    "  if (true) {\n",
    "    console.log(x); // Output: undefined\n",
    "    var x = 10;\n",
    "  }\n",
    "  console.log(x); // Output: 10\n",
    "}\n",
    "\n",
    "myFunction();\n",
    "console.log(\"--------------------------------------\")\n",
    "function myFunction1() {\n",
    "  if (true) {\n",
    "    console.log(x); // Output: undefined\n",
    "    let x = 10;\n",
    "  }\n",
    "  console.log(x); // Output: 10\n",
    "}\n",
    "myFunction1();\n"
   ]
  },
  {
   "attachments": {},
   "cell_type": "markdown",
   "metadata": {},
   "source": [
    "## Declarations"
   ]
  },
  {
   "attachments": {},
   "cell_type": "markdown",
   "metadata": {},
   "source": [
    "### var"
   ]
  },
  {
   "attachments": {},
   "cell_type": "markdown",
   "metadata": {},
   "source": [
    "`var` variables have function-level scope. They are accessible within the entire function in which they are declared, regardless of block scopes."
   ]
  },
  {
   "cell_type": "code",
   "execution_count": 44,
   "metadata": {
    "dotnet_interactive": {
     "language": "javascript"
    },
    "polyglot_notebook": {
     "kernelName": "javascript"
    },
    "vscode": {
     "languageId": "polyglot-notebook"
    }
   },
   "outputs": [
    {
     "data": {
      "text/plain": [
       "Inside Block: 10"
      ]
     },
     "metadata": {},
     "output_type": "display_data"
    },
    {
     "data": {
      "text/plain": [
       "Outside Block: 10"
      ]
     },
     "metadata": {},
     "output_type": "display_data"
    }
   ],
   "source": [
    "function example() {\n",
    "  if (true) {\n",
    "    var x = 10; // Function-level scope\n",
    "    console.log(\"Inside Block: \"+x); \n",
    "  }\n",
    "  console.log(\"Outside Block: \"+x); \n",
    "}\n",
    "\n",
    "example();"
   ]
  },
  {
   "attachments": {},
   "cell_type": "markdown",
   "metadata": {},
   "source": [
    "### let"
   ]
  },
  {
   "attachments": {},
   "cell_type": "markdown",
   "metadata": {},
   "source": [
    "`let` variables have block-level scope. They are only accessible within the block scope in which they are declared."
   ]
  },
  {
   "cell_type": "code",
   "execution_count": 45,
   "metadata": {
    "dotnet_interactive": {
     "language": "javascript"
    },
    "polyglot_notebook": {
     "kernelName": "javascript"
    },
    "vscode": {
     "languageId": "polyglot-notebook"
    }
   },
   "outputs": [
    {
     "data": {
      "text/plain": [
       "Inside Block: 10"
      ]
     },
     "metadata": {},
     "output_type": "display_data"
    },
    {
     "data": {
      "text/plain": [
       "Outside Block"
      ]
     },
     "metadata": {},
     "output_type": "display_data"
    },
    {
     "ename": "Error",
     "evalue": "x is not defined",
     "output_type": "error",
     "traceback": [
      "x is not defined"
     ]
    }
   ],
   "source": [
    "function example() {\n",
    "  if (true) {\n",
    "    let x = 10; // Block-level scope\n",
    "    console.log(\"Inside Block: \"+x); \n",
    "    console.log(\"Outside Block\");\n",
    "  }\n",
    "  console.log(\"Outside Block: \"+x);\n",
    "}\n",
    "example();\n"
   ]
  },
  {
   "attachments": {},
   "cell_type": "markdown",
   "metadata": {},
   "source": [
    "### const"
   ]
  },
  {
   "attachments": {},
   "cell_type": "markdown",
   "metadata": {},
   "source": [
    "`const` variables also have block-level scope like `let`. However, they are read-only and cannot be reassigned after initialization."
   ]
  },
  {
   "cell_type": "code",
   "execution_count": 67,
   "metadata": {
    "dotnet_interactive": {
     "language": "javascript"
    },
    "polyglot_notebook": {
     "kernelName": "javascript"
    },
    "vscode": {
     "languageId": "polyglot-notebook"
    }
   },
   "outputs": [
    {
     "data": {
      "text/plain": [
       "10"
      ]
     },
     "metadata": {},
     "output_type": "display_data"
    },
    {
     "ename": "Error",
     "evalue": "x1 is not defined",
     "output_type": "error",
     "traceback": [
      "x1 is not defined"
     ]
    }
   ],
   "source": [
    "function example() {\n",
    "  if (true) {\n",
    "    const x1 = 10; // Block-level scope\n",
    "    console.log(x1); \n",
    "  }\n",
    "  console.log(x1);\n",
    "}\n",
    "example();\n",
    "console.log(x1)\n",
    "\n"
   ]
  },
  {
   "cell_type": "code",
   "execution_count": 4,
   "metadata": {
    "dotnet_interactive": {
     "language": "html"
    },
    "polyglot_notebook": {
     "kernelName": "html"
    },
    "vscode": {
     "languageId": "polyglot-notebook"
    }
   },
   "outputs": [
    {
     "data": {
      "text/html": [
       "    <img src=\"assets/images/Screenshot 2023-05-18 112301.png\" alt=\"\">"
      ]
     },
     "metadata": {},
     "output_type": "display_data"
    }
   ],
   "source": [
    "    <img src=\"assets/images/Screenshot 2023-05-18 112301.png\" alt=\"\">"
   ]
  },
  {
   "attachments": {},
   "cell_type": "markdown",
   "metadata": {},
   "source": [
    "### Undefined"
   ]
  },
  {
   "cell_type": "code",
   "execution_count": 64,
   "metadata": {
    "dotnet_interactive": {
     "language": "javascript"
    },
    "polyglot_notebook": {
     "kernelName": "javascript"
    },
    "vscode": {
     "languageId": "polyglot-notebook"
    }
   },
   "outputs": [
    {
     "data": {
      "text/plain": [
       "10"
      ]
     },
     "metadata": {},
     "output_type": "display_data"
    },
    {
     "data": {
      "text/plain": [
       "10"
      ]
     },
     "metadata": {},
     "output_type": "display_data"
    }
   ],
   "source": [
    "function myFunction() {\n",
    "  x = 10; // Assigning a value to x without declaring it //global variable\n",
    "  console.log(x);\n",
    "}\n",
    "\n",
    "myFunction();\n",
    "\n",
    "console.log(x);\n"
   ]
  },
  {
   "attachments": {},
   "cell_type": "markdown",
   "metadata": {},
   "source": [
    "# Hoisting"
   ]
  },
  {
   "attachments": {},
   "cell_type": "markdown",
   "metadata": {},
   "source": [
    "Hoisting is JavaScript's default behavior of moving declarations to the top."
   ]
  },
  {
   "attachments": {},
   "cell_type": "markdown",
   "metadata": {},
   "source": [
    "[Link](test.html)"
   ]
  },
  {
   "cell_type": "code",
   "execution_count": 56,
   "metadata": {
    "dotnet_interactive": {
     "language": "javascript"
    },
    "polyglot_notebook": {
     "kernelName": "javascript"
    },
    "vscode": {
     "languageId": "polyglot-notebook"
    }
   },
   "outputs": [
    {
     "data": {
      "text/plain": [
       "10"
      ]
     },
     "metadata": {},
     "output_type": "display_data"
    },
    {
     "data": {
      "text/plain": [
       "10"
      ]
     },
     "metadata": {},
     "output_type": "display_data"
    }
   ],
   "source": [
    "function myFunction() {\n",
    "    x = 10;\n",
    "  console.log(x); // Output: ReferenceError: x is not defined\n",
    "}\n",
    "console.log(x); // Output: ReferenceError: x is not defined\n",
    "myFunction();"
   ]
  }
 ],
 "metadata": {
  "language_info": {
   "name": "python"
  },
  "orig_nbformat": 4
 },
 "nbformat": 4,
 "nbformat_minor": 2
}
